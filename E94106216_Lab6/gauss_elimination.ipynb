{
 "cells": [
  {
   "cell_type": "code",
   "execution_count": 52,
   "metadata": {},
   "outputs": [],
   "source": [
    "import numpy as np\n",
    "\n",
    "def gauss_elimination(A, y):\n",
    "    A = A.astype(float)\n",
    "    y = y.astype(float)\n",
    "    n = A.shape[0]\n",
    "    aug_matrix = np.concatenate((A, y.reshape(n, 1)), axis=1)\n",
    "\n",
    "    # Convert to upper triangular form\n",
    "    for i in range(n):\n",
    "        # If diagonal element is zero, swap with a row below that has a non-zero in the same column\n",
    "        if aug_matrix[i, i] == 0:\n",
    "            for swap_i in range(i+1, n):\n",
    "                if aug_matrix[swap_i, i] != 0:\n",
    "                    aug_matrix[[i, swap_i]] = aug_matrix[[swap_i, i]]\n",
    "                    break\n",
    "            else:\n",
    "                print(\"Matrix is singular.\")\n",
    "                return\n",
    "                \n",
    "        for j in range(i+1, n):\n",
    "            ratio = aug_matrix[j, i] / aug_matrix[i, i]\n",
    "            for k in range(n+1):\n",
    "                aug_matrix[j, k] = aug_matrix[j, k] - ratio * aug_matrix[i, k]\n",
    "\n",
    "    print(\"upper triangular matrix:\")\n",
    "    print(np.round(aug_matrix, 3))\n",
    "\n",
    "    # Back-substitution\n",
    "    x = np.zeros(n)\n",
    "    for i in range(n-1, -1, -1):\n",
    "        x[i] = aug_matrix[i, n] / aug_matrix[i, i]\n",
    "        for j in range(i):\n",
    "            aug_matrix[j, n] -= aug_matrix[j, i] * x[i]\n",
    "\n",
    "    print(\"x:\")\n",
    "    print(np.round(x, 3))"
   ]
  },
  {
   "cell_type": "code",
   "execution_count": 53,
   "metadata": {},
   "outputs": [
    {
     "name": "stdout",
     "output_type": "stream",
     "text": [
      "Sample 1:\n",
      "upper triangular matrix:\n",
      "[[ 1.  2.  3.  2.]\n",
      " [ 0. -2. -4. -4.]\n",
      " [ 0.  0. -2.  1.]]\n",
      "x:\n",
      "[-2.5  3.  -0.5]\n",
      "\n",
      "Sample 2:\n",
      "upper triangular matrix:\n",
      "[[  1.    2.    3.    4.    4. ]\n",
      " [  0.   -6.  -12.  -18.  -12. ]\n",
      " [  0.    0.    2.    5.    3. ]\n",
      " [  0.    0.    0.   -2.5  -0.5]]\n",
      "x:\n",
      "[ 1.4 -0.6  1.   0.2]\n",
      "\n",
      "Sample 3:\n",
      "Matrix is singular.\n",
      "\n"
     ]
    }
   ],
   "source": [
    "# Sample 1\n",
    "a = np.array([[1, 2, 3], [3, 4, 5], [3, 5, 5]])\n",
    "y = np.array([2, 2, 5])\n",
    "print(\"Sample 1:\")\n",
    "gauss_elimination(a, y)\n",
    "\n",
    "# Sample 2\n",
    "a = np.array([[1, 2, 3, 4], [5, 4, 3, 2], [2, 1, 2, 4], [2, 1, 3, 4]])\n",
    "y = np.array([4, 8, 5, 6])\n",
    "print(\"\\nSample 2:\")\n",
    "gauss_elimination(a, y)\n",
    "\n",
    "# Sample 3\n",
    "a = np.array([[0, 0, 0], [3, 4, 5], [3, 5, 5]])\n",
    "y = np.array([2, 2, 5])\n",
    "print(\"\\nSample 3:\")\n",
    "gauss_elimination(a, y)\n",
    "print()\n"
   ]
  }
 ],
 "metadata": {
  "kernelspec": {
   "display_name": ".venv",
   "language": "python",
   "name": "python3"
  },
  "language_info": {
   "codemirror_mode": {
    "name": "ipython",
    "version": 3
   },
   "file_extension": ".py",
   "mimetype": "text/x-python",
   "name": "python",
   "nbconvert_exporter": "python",
   "pygments_lexer": "ipython3",
   "version": "3.10.11"
  }
 },
 "nbformat": 4,
 "nbformat_minor": 2
}
