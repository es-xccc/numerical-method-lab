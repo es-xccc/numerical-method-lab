{
 "cells": [
  {
   "cell_type": "code",
   "execution_count": 2,
   "id": "17751967-6b57-43b6-b2fd-ad586b05af69",
   "metadata": {
    "tags": []
   },
   "outputs": [],
   "source": [
    "# Problem 1.2\n",
    "\n",
    "import numpy as np"
   ]
  },
  {
   "cell_type": "code",
   "execution_count": 3,
   "id": "c5a6240b-60fd-4021-a9d5-172b83eb2879",
   "metadata": {
    "tags": []
   },
   "outputs": [],
   "source": [
    "row_vector = np.array([[1,3,5,7,9]])"
   ]
  },
  {
   "cell_type": "code",
   "execution_count": 4,
   "id": "5cc6450a-b19b-42b2-b7cc-01beae4050ca",
   "metadata": {
    "tags": []
   },
   "outputs": [],
   "source": [
    "col_vector = np.array([[1],[2],[3],[4]])"
   ]
  },
  {
   "cell_type": "code",
   "execution_count": 5,
   "id": "42e2fe33-e6b8-4bb4-8aa9-a67937de1034",
   "metadata": {
    "tags": []
   },
   "outputs": [],
   "source": [
    "temp = [[1,3,5,7,9]]"
   ]
  },
  {
   "cell_type": "code",
   "execution_count": 6,
   "id": "07dbf479-d151-4d96-bdaa-9e6f51e77a4f",
   "metadata": {
    "tags": []
   },
   "outputs": [
    {
     "name": "stdout",
     "output_type": "stream",
     "text": [
      "[[1, 3, 5, 7, 9]]\n"
     ]
    }
   ],
   "source": [
    "print(temp)"
   ]
  },
  {
   "cell_type": "code",
   "execution_count": 7,
   "id": "76aab55a-c70e-4cfd-8358-98d700b02062",
   "metadata": {
    "tags": []
   },
   "outputs": [
    {
     "name": "stdout",
     "output_type": "stream",
     "text": [
      "(1, 5)\n"
     ]
    }
   ],
   "source": [
    "print(row_vector.shape)"
   ]
  },
  {
   "cell_type": "code",
   "execution_count": 8,
   "id": "c080542a-f2b2-47b5-81dc-9f6259622aad",
   "metadata": {
    "tags": []
   },
   "outputs": [
    {
     "name": "stdout",
     "output_type": "stream",
     "text": [
      "(4, 1)\n"
     ]
    }
   ],
   "source": [
    "print(col_vector.shape)"
   ]
  },
  {
   "cell_type": "code",
   "execution_count": 9,
   "id": "89103648-95c1-4271-912c-9591a2a1b058",
   "metadata": {
    "tags": []
   },
   "outputs": [
    {
     "name": "stdout",
     "output_type": "stream",
     "text": [
      "L1 is : 25.00\n",
      "L2 is : 12.845\n",
      "L_inf : 9.00\n"
     ]
    }
   ],
   "source": [
    "#Problem 1.3\n",
    "from numpy.linalg import norm\n",
    "\n",
    "row_trans = row_vector.T\n",
    "#compute L1 norm for row_transpose\n",
    "L1_norm = norm(row_trans,1)\n",
    "#compute L2 norm for row_transpose\n",
    "L2_norm = norm(row_trans,2)\n",
    "#compute L_inf norm for row_transpose\n",
    "L_inf_norm = norm(row_trans,np.inf)\n",
    "print(\"L1 is : %.2f\"%L1_norm)\n",
    "print(\"L2 is : %.3f\"%L2_norm)\n",
    "print(\"L_inf : %.2f\"%L_inf_norm)"
   ]
  },
  {
   "cell_type": "code",
   "execution_count": 10,
   "id": "d9e46390-7eea-41cf-9e31-84e3dbecdc76",
   "metadata": {
    "tags": []
   },
   "outputs": [],
   "source": [
    "#Problem 1.5\n",
    "from numpy import arccos, dot #funciton for inverse cosine and dot product\n",
    "v = np.array([[10,9,3]]) #vector v = [10, 9 ,3]T\n",
    "w = np.array([[2,5,12]]) #vector w = [2, 5, 12]T"
   ]
  },
  {
   "cell_type": "code",
   "execution_count": 11,
   "id": "c03ee037-edd7-4af3-8d3a-156366f01833",
   "metadata": {
    "tags": []
   },
   "outputs": [],
   "source": [
    "theta = arccos(dot(v,w.T)/(norm(v)*norm(w)))"
   ]
  },
  {
   "cell_type": "code",
   "execution_count": 12,
   "id": "6046a679-fd12-4a94-8675-ef7a0610af8f",
   "metadata": {
    "tags": []
   },
   "outputs": [
    {
     "name": "stdout",
     "output_type": "stream",
     "text": [
      "theta is :0.98\n"
     ]
    },
    {
     "name": "stderr",
     "output_type": "stream",
     "text": [
      "C:\\Users\\User\\AppData\\Local\\Temp\\ipykernel_12428\\2012805614.py:1: DeprecationWarning: Conversion of an array with ndim > 0 to a scalar is deprecated, and will error in future. Ensure you extract a single element from your array before performing this operation. (Deprecated NumPy 1.25.)\n",
      "  print(\"theta is :%.2f\"%theta)\n"
     ]
    }
   ],
   "source": [
    "print(\"theta is :%.2f\"%theta)"
   ]
  },
  {
   "cell_type": "code",
   "execution_count": 13,
   "id": "35163f6e-b4ed-46eb-b444-cedf224d9247",
   "metadata": {
    "tags": []
   },
   "outputs": [
    {
     "name": "stdout",
     "output_type": "stream",
     "text": [
      "[[ 0  0 -6]]\n"
     ]
    }
   ],
   "source": [
    "#problem 1.6\n",
    "from numpy import cross\n",
    "u = np.array([[0,2,0]])\n",
    "t = np.array([[3,0,0]])\n",
    "print(cross(u,t))"
   ]
  },
  {
   "cell_type": "code",
   "execution_count": 14,
   "id": "5a3af3ea-1b55-4bce-80cc-1171fb000430",
   "metadata": {
    "tags": []
   },
   "outputs": [],
   "source": [
    "#Problem 1.10\n",
    "from numpy.linalg import inv\n",
    "M = np.array([[0,2,1,3],\n",
    "             [3,2,8,1],\n",
    "             [1,0,0,3],\n",
    "             [0,3,2,1]])"
   ]
  },
  {
   "cell_type": "code",
   "execution_count": 15,
   "id": "6beaf1e5-66a4-4c42-8554-6306e70e7582",
   "metadata": {
    "tags": []
   },
   "outputs": [
    {
     "name": "stdout",
     "output_type": "stream",
     "text": [
      "[[0 2 1 3]\n",
      " [3 2 8 1]\n",
      " [1 0 0 3]\n",
      " [0 3 2 1]]\n"
     ]
    }
   ],
   "source": [
    "print(M)"
   ]
  },
  {
   "cell_type": "code",
   "execution_count": 16,
   "id": "37b00566-d590-4827-b208-5c33e4973695",
   "metadata": {
    "tags": []
   },
   "outputs": [
    {
     "name": "stdout",
     "output_type": "stream",
     "text": [
      "-38.000000000000014\n"
     ]
    }
   ],
   "source": [
    "from numpy.linalg import det\n",
    "print(det(M))"
   ]
  },
  {
   "cell_type": "code",
   "execution_count": 17,
   "id": "ab3f1db2-6638-4c13-85e9-bc31e87fb9a6",
   "metadata": {
    "tags": []
   },
   "outputs": [
    {
     "name": "stdout",
     "output_type": "stream",
     "text": [
      "[[-1.57894737 -0.07894737  1.23684211  1.10526316]\n",
      " [-0.63157895 -0.13157895  0.39473684  0.84210526]\n",
      " [ 0.68421053  0.18421053 -0.55263158 -0.57894737]\n",
      " [ 0.52631579  0.02631579 -0.07894737 -0.36842105]]\n"
     ]
    }
   ],
   "source": [
    "print(inv(M)) #find inverse matrix"
   ]
  },
  {
   "cell_type": "code",
   "execution_count": 18,
   "id": "c6f2b90f-629a-411c-8386-c25f03bf24a9",
   "metadata": {
    "tags": []
   },
   "outputs": [
    {
     "name": "stdout",
     "output_type": "stream",
     "text": [
      "[ 2.20833333 -2.58333333 -0.18333333]\n"
     ]
    }
   ],
   "source": [
    "#Problem 1.19\n",
    "from numpy.linalg import solve\n",
    "A = np.array([[4,3,-5],\n",
    "              [-2,-4,5],\n",
    "              [8,8,0]])\n",
    "y = np.array([2,5,-3])\n",
    "x = solve(A,y)\n",
    "print(x)"
   ]
  },
  {
   "cell_type": "code",
   "execution_count": 19,
   "id": "19680964-5a57-4833-baa9-8f3c15ad129c",
   "metadata": {
    "tags": []
   },
   "outputs": [
    {
     "name": "stdout",
     "output_type": "stream",
     "text": [
      "[ 2.20833333 -2.58333333 -0.18333333]\n"
     ]
    }
   ],
   "source": [
    "from numpy.linalg import inv\n",
    "x = np.dot(inv(A),y)\n",
    "print(x)"
   ]
  },
  {
   "cell_type": "code",
   "execution_count": 20,
   "id": "9e20a85f-9954-419e-bb51-88a42393c289",
   "metadata": {
    "tags": []
   },
   "outputs": [
    {
     "name": "stdout",
     "output_type": "stream",
     "text": [
      "[[ 1.    0.    0.  ]\n",
      " [-0.25  1.    0.  ]\n",
      " [ 0.5   0.5   1.  ]]\n",
      "[[ 8.   8.   0. ]\n",
      " [ 0.  -2.   5. ]\n",
      " [ 0.   0.  -7.5]]\n",
      "[[0. 0. 1.]\n",
      " [0. 1. 0.]\n",
      " [1. 0. 0.]]\n"
     ]
    }
   ],
   "source": [
    "from scipy.linalg import lu\n",
    "P,L,U = lu(A)\n",
    "print(L)\n",
    "print(U)\n",
    "print(P)"
   ]
  },
  {
   "cell_type": "code",
   "execution_count": 23,
   "id": "b4d113ca-ef31-46f1-83ad-9851fac072e3",
   "metadata": {
    "tags": []
   },
   "outputs": [
    {
     "name": "stdout",
     "output_type": "stream",
     "text": [
      "[[ 8.  8.  0.]\n",
      " [-2. -4.  5.]\n",
      " [ 4.  3. -5.]]\n"
     ]
    }
   ],
   "source": [
    "print(np.dot(L,U))"
   ]
  },
  {
   "cell_type": "code",
   "execution_count": null,
   "id": "ebf76bd0-37b2-494e-ad3c-5ab071ab1540",
   "metadata": {},
   "outputs": [],
   "source": []
  }
 ],
 "metadata": {
  "kernelspec": {
   "display_name": "Python 3 (ipykernel)",
   "language": "python",
   "name": "python3"
  },
  "language_info": {
   "codemirror_mode": {
    "name": "ipython",
    "version": 3
   },
   "file_extension": ".py",
   "mimetype": "text/x-python",
   "name": "python",
   "nbconvert_exporter": "python",
   "pygments_lexer": "ipython3",
   "version": "3.10.11"
  }
 },
 "nbformat": 4,
 "nbformat_minor": 5
}
