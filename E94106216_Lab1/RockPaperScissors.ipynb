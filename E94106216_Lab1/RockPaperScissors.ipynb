{
 "cells": [
  {
   "cell_type": "code",
   "execution_count": 11,
   "metadata": {},
   "outputs": [
    {
     "name": "stdout",
     "output_type": "stream",
     "text": [
      "Welcome to ROCK, PAPER, SCISSORS game!\n",
      "ROCK versus...\n",
      "PAPER\n",
      "You lose!\n",
      "SCISSORS versus...\n",
      "SCISSORS\n",
      "It's a tie!\n",
      "SCISSORS versus...\n",
      "ROCK\n",
      "You lose!\n",
      "SCISSORS versus...\n",
      "SCISSORS\n",
      "It's a tie!\n",
      "SCISSORS versus...\n",
      "SCISSORS\n",
      "It's a tie!\n",
      "SCISSORS versus...\n",
      "ROCK\n",
      "You lose!\n",
      "SCISSORS versus...\n",
      "PAPER\n",
      "You win!\n",
      "You have 3 ties and 3 losses before your first win.\n"
     ]
    }
   ],
   "source": [
    "import random\n",
    "\n",
    "print(\"Welcome to ROCK, PAPER, SCISSORS game!\")\n",
    "moves = {\"r\": \"ROCK\", \"p\": \"PAPER\", \"s\": \"SCISSORS\"}\n",
    "ties = 0\n",
    "losses = 0\n",
    "\n",
    "while True: # 玩家贏了之後再break\n",
    "    player_move = input(\"Enter your move: (r)ock (p)aper, (s)cissors \")\n",
    "    computer_move = random.choice([\"ROCK\", \"PAPER\", \"SCISSORS\"])\n",
    "    print(moves[player_move], \"versus...\")\n",
    "    print(computer_move)\n",
    "\n",
    "    # 判斷輸贏並輸出\n",
    "    if player_move == \"r\":\n",
    "        if computer_move == \"SCISSORS\":\n",
    "            print(\"You win!\")\n",
    "            break\n",
    "        elif computer_move == \"PAPER\":\n",
    "            print(\"You lose!\")\n",
    "            losses += 1\n",
    "        else:\n",
    "            print(\"It's a tie!\")\n",
    "            ties += 1\n",
    "    elif player_move == \"p\":\n",
    "        if computer_move == \"ROCK\":\n",
    "            print(\"You win!\")\n",
    "            break\n",
    "        elif computer_move == \"SCISSORS\":\n",
    "            print(\"You lose!\")\n",
    "            losses += 1\n",
    "        else:\n",
    "            print(\"It's a tie!\")\n",
    "            ties += 1\n",
    "    elif player_move == \"s\":\n",
    "        if computer_move == \"PAPER\":\n",
    "            print(\"You win!\")\n",
    "            break\n",
    "        elif computer_move == \"ROCK\":\n",
    "            print(\"You lose!\")\n",
    "            losses += 1\n",
    "        else:\n",
    "            print(\"It's a tie!\")\n",
    "            ties += 1\n",
    "\n",
    "# 玩家贏了 結束\n",
    "print(f\"You have {ties} ties and {losses} losses before your first win.\")\n"
   ]
  }
 ],
 "metadata": {
  "kernelspec": {
   "display_name": ".venv",
   "language": "python",
   "name": "python3"
  },
  "language_info": {
   "codemirror_mode": {
    "name": "ipython",
    "version": 3
   },
   "file_extension": ".py",
   "mimetype": "text/x-python",
   "name": "python",
   "nbconvert_exporter": "python",
   "pygments_lexer": "ipython3",
   "version": "3.10.11"
  }
 },
 "nbformat": 4,
 "nbformat_minor": 2
}
