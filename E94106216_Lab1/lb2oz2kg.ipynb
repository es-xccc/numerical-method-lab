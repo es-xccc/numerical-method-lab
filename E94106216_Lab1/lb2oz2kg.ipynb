{
 "cells": [
  {
   "cell_type": "code",
   "execution_count": 11,
   "metadata": {},
   "outputs": [
    {
     "name": "stdout",
     "output_type": "stream",
     "text": [
      "Enter weight(lb): 1.5\n",
      "\n",
      "lb, oz, kg\n",
      "1.5, 24.0, 0.68039\n"
     ]
    }
   ],
   "source": [
    "val = float(input(\"Enter weight(lb):\"))\n",
    "print(\"Enter weight(lb):\" + ' ' + str(val))\n",
    "print()\n",
    "print('lb, oz, kg')\n",
    "print(str(val) + ', ' + str(val*24.0/1.5) + ', ' + str(val*0.68039/1.5))"
   ]
  }
 ],
 "metadata": {
  "kernelspec": {
   "display_name": ".venv",
   "language": "python",
   "name": "python3"
  },
  "language_info": {
   "codemirror_mode": {
    "name": "ipython",
    "version": 3
   },
   "file_extension": ".py",
   "mimetype": "text/x-python",
   "name": "python",
   "nbconvert_exporter": "python",
   "pygments_lexer": "ipython3",
   "version": "3.10.11"
  }
 },
 "nbformat": 4,
 "nbformat_minor": 2
}
