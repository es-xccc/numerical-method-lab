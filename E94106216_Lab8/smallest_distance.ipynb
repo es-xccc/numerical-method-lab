{
 "cells": [
  {
   "cell_type": "code",
   "execution_count": 4,
   "metadata": {},
   "outputs": [
    {
     "name": "stdout",
     "output_type": "stream",
     "text": [
      "Intersection point = [0.73306761 7.58776385]\n",
      "Minimum distance = 4.28679958766998\n",
      "xy = 5.562343874620907\n",
      "Number of cycles = 5\n"
     ]
    }
   ],
   "source": [
    "import numpy as np\n",
    "import powell as pw\n",
    "\n",
    "def obj_fn(v): \n",
    "    lm = 1.0  # Constraint multiplier\n",
    "    c = v[0] * v[1] - 5  # Constraint function\n",
    "    return (v[0] - 5) ** 2 + (v[1] - 8) ** 2 + lm * c ** 2\n",
    "\n",
    "init_v = np.array([1.0, 5.0])\n",
    "min_v, iters = pw.powell(obj_fn, init_v)\n",
    "\n",
    "print(\"Intersection point =\", min_v)\n",
    "print(\"Minimum distance =\", ((min_v[0] - 5) ** 2 + (min_v[1] - 8) ** 2) ** 0.5)\n",
    "print(\"xy =\", min_v[0] * min_v[1])\n",
    "print(\"Number of cycles =\", iters)"
   ]
  }
 ],
 "metadata": {
  "kernelspec": {
   "display_name": ".venv",
   "language": "python",
   "name": "python3"
  },
  "language_info": {
   "codemirror_mode": {
    "name": "ipython",
    "version": 3
   },
   "file_extension": ".py",
   "mimetype": "text/x-python",
   "name": "python",
   "nbconvert_exporter": "python",
   "pygments_lexer": "ipython3",
   "version": "3.10.11"
  }
 },
 "nbformat": 4,
 "nbformat_minor": 2
}
