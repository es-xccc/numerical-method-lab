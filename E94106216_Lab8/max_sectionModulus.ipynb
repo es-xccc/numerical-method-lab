{
 "cells": [
  {
   "cell_type": "code",
   "execution_count": 18,
   "metadata": {},
   "outputs": [
    {
     "name": "stdout",
     "output_type": "stream",
     "text": [
      "Optimal y = 52.1762736078842\n",
      "Optimal S = 7864.430941364853\n",
      "S of triangle = 7200.0\n"
     ]
    }
   ],
   "source": [
    "import numpy as np\n",
    "import goldSearch\n",
    "\n",
    "# Constants\n",
    "B = 48.0  # Base of the triangle\n",
    "H = 60.0  # Height of the triangle\n",
    "\n",
    "\n",
    "# Function to calculate section modulus\n",
    "def section_modulus(y):\n",
    "    a = B * (H - y) / H\n",
    "    b = (B - a) / 2\n",
    "    A = (B + a) * y / 2\n",
    "    Qx = (a * y**2) / 2 + (b * y**2) / 3\n",
    "    d = Qx / A\n",
    "    c = y - d\n",
    "    Ix = a * y**3 / 3 + b * y**3 / 6\n",
    "    Ix_bar = Ix - A * d**2\n",
    "    S = -Ix_bar / c\n",
    "    return S\n",
    "\n",
    "\n",
    "y1, y2 = goldSearch.bracket(section_modulus, H, 0.1)\n",
    "y, fMax = goldSearch.search(section_modulus, y1, y2)\n",
    "\n",
    "print(\"Optimal y =\", y)\n",
    "print(\"Optimal S =\", -fMax)\n",
    "print(\"S of triangle =\", -section_modulus(H))"
   ]
  }
 ],
 "metadata": {
  "kernelspec": {
   "display_name": ".venv",
   "language": "python",
   "name": "python3"
  },
  "language_info": {
   "codemirror_mode": {
    "name": "ipython",
    "version": 3
   },
   "file_extension": ".py",
   "mimetype": "text/x-python",
   "name": "python",
   "nbconvert_exporter": "python",
   "pygments_lexer": "ipython3",
   "version": "3.10.11"
  }
 },
 "nbformat": 4,
 "nbformat_minor": 2
}
