{
 "cells": [
  {
   "cell_type": "code",
   "execution_count": 3,
   "metadata": {},
   "outputs": [
    {
     "name": "stdout",
     "output_type": "stream",
     "text": [
      "cos(2.3) approximation is -0.6662760212798241\n"
     ]
    }
   ],
   "source": [
    "import math\n",
    "x = float(input())\n",
    "result = 0\n",
    "for i in range(0, 25, 2):\n",
    "    result += x**i / math.factorial(i) * (-1)**(i/2) # 使用公式\n",
    "print('cos(' + str(x) + ')' ' approximation is ' + str(result))"
   ]
  }
 ],
 "metadata": {
  "kernelspec": {
   "display_name": ".venv",
   "language": "python",
   "name": "python3"
  },
  "language_info": {
   "codemirror_mode": {
    "name": "ipython",
    "version": 3
   },
   "file_extension": ".py",
   "mimetype": "text/x-python",
   "name": "python",
   "nbconvert_exporter": "python",
   "pygments_lexer": "ipython3",
   "version": "3.10.11"
  }
 },
 "nbformat": 4,
 "nbformat_minor": 2
}
