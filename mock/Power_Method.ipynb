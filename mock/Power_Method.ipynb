{
 "cells": [
  {
   "cell_type": "code",
   "execution_count": 11,
   "metadata": {},
   "outputs": [
    {
     "name": "stdout",
     "output_type": "stream",
     "text": [
      "The Maximum Eigenvalue: 6.8151120645289645\n",
      "Eigenvector: [0.55093789 0.99999104 0.10188473]\n"
     ]
    }
   ],
   "source": [
    "import numpy as np\n",
    "from numpy.linalg import det\n",
    "\n",
    "def Power_Method(a, x):\n",
    "    x=x.astype('float')\n",
    "    a=a.astype('float')\n",
    "    l1=np.max(x)\n",
    "    x=x/l1\n",
    "    x=np.dot(a,x)\n",
    "    l2=np.max(x)\n",
    "    if np.allclose(l1, l2):\n",
    "        return l1, x/l1\n",
    "    else:\n",
    "        return Power_Method(a, x)\n",
    "\n",
    "\n",
    "a = np.array([[1, 3, 2], [2, 5, 7], [2, 0, -4]])\n",
    "x = np.array([1, 1, 1])\n",
    "Eigenvalue, Eigenvector = Power_Method(a, x)\n",
    "print(\"The Maximum Eigenvalue:\", Eigenvalue)\n",
    "print(\"Eigenvector:\", Eigenvector)"
   ]
  }
 ],
 "metadata": {
  "kernelspec": {
   "display_name": ".venv",
   "language": "python",
   "name": "python3"
  },
  "language_info": {
   "codemirror_mode": {
    "name": "ipython",
    "version": 3
   },
   "file_extension": ".py",
   "mimetype": "text/x-python",
   "name": "python",
   "nbconvert_exporter": "python",
   "pygments_lexer": "ipython3",
   "version": "3.10.11"
  }
 },
 "nbformat": 4,
 "nbformat_minor": 2
}
