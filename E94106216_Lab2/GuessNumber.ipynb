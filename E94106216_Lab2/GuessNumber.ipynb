{
 "cells": [
  {
   "cell_type": "code",
   "execution_count": 5,
   "metadata": {},
   "outputs": [
    {
     "name": "stdout",
     "output_type": "stream",
     "text": [
      "Welcome to the number guessing game with a range of 1 to 100\n",
      "Range from 1 to 50\n",
      "Range from 1 to 25\n",
      "Range from 1 to 12\n",
      "You guessed the correct number!\n"
     ]
    }
   ],
   "source": [
    "import random\n",
    "\n",
    "def guess_number():\n",
    "    print(\"Welcome to the number guessing game with a range of 1 to 100\")\n",
    "    ans = random.randint(1, 100)\n",
    "    low = 1\n",
    "    high = 100\n",
    "\n",
    "    while 1:\n",
    "        guess = int(input(\"Enter your guess: \"))\n",
    "        if guess < low or guess > high:\n",
    "            print(\"Out of range!\") # 不改變 range\n",
    "        else:\n",
    "            if guess < ans:\n",
    "                low = guess # low 和 high 會在下一輪用來判斷\n",
    "                print(f\"Range from {low} to {high}\")\n",
    "            elif guess > ans:\n",
    "                high = guess\n",
    "                print(f\"Range from {low} to {high}\")\n",
    "            else:\n",
    "                print(\"You guessed the correct number!\")\n",
    "                break\n",
    "\n",
    "guess_number()"
   ]
  }
 ],
 "metadata": {
  "kernelspec": {
   "display_name": ".venv",
   "language": "python",
   "name": "python3"
  },
  "language_info": {
   "codemirror_mode": {
    "name": "ipython",
    "version": 3
   },
   "file_extension": ".py",
   "mimetype": "text/x-python",
   "name": "python",
   "nbconvert_exporter": "python",
   "pygments_lexer": "ipython3",
   "version": "3.10.11"
  }
 },
 "nbformat": 4,
 "nbformat_minor": 2
}
