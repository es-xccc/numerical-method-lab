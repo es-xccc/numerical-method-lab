{
 "cells": [
  {
   "cell_type": "code",
   "execution_count": 9,
   "metadata": {},
   "outputs": [
    {
     "name": "stdout",
     "output_type": "stream",
     "text": [
      "The original data: [1000, -2, 4, 1, -56, 2, 11, 4777, 5]\n",
      "The data with the outliers removed: [1, 2, 4, 5, 11]\n",
      "The outliers: [-56, -2, 1000, 4777]\n"
     ]
    }
   ],
   "source": [
    "def remove_outliers():\n",
    "    n = int(input('Enter the number of smallest and largest values to remove:'))\n",
    "    num1 = []\n",
    "    in1 = input('Enter a value (q or Q to quit):') # 為了避免第一個就是q，所以要先寫\n",
    "    while (in1 != 'q' and in1 != 'Q'):\n",
    "        num1.append(int(in1))\n",
    "        in1 = input('Enter a value (q or Q to quit):')\n",
    "    print('The original data:', num1)\n",
    "    print('The data with the outliers removed:', sorted(num1)[n: len(num1) - n])\n",
    "    print('The outliers:', sorted(num1)[0: n] + sorted(num1)[len(num1)-n: len(num1)])\n",
    "remove_outliers()"
   ]
  }
 ],
 "metadata": {
  "kernelspec": {
   "display_name": ".venv",
   "language": "python",
   "name": "python3"
  },
  "language_info": {
   "codemirror_mode": {
    "name": "ipython",
    "version": 3
   },
   "file_extension": ".py",
   "mimetype": "text/x-python",
   "name": "python",
   "nbconvert_exporter": "python",
   "pygments_lexer": "ipython3",
   "version": "3.10.11"
  }
 },
 "nbformat": 4,
 "nbformat_minor": 2
}
