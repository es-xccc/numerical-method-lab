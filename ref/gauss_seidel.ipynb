{
 "cells": [
  {
   "cell_type": "code",
   "execution_count": 1,
   "id": "e28f3907",
   "metadata": {},
   "outputs": [],
   "source": [
    "import numpy as np\n",
    "from numpy.linalg import det"
   ]
  },
  {
   "cell_type": "code",
   "execution_count": 2,
   "id": "4255a606",
   "metadata": {},
   "outputs": [],
   "source": [
    "def GaussSeidel(a,y,x,k):\n",
    "    if k==0:#第一次呼叫需輸出\n",
    "        print('Iteration results')\n",
    "        print(' k,   x1,      x2,      x3 ')\n",
    "    k=k+1#計算次數加1\n",
    "    test=np.zeros(len(x))#test為新一次的x\n",
    "    a=a.astype('float')\n",
    "    y=y.astype('float')\n",
    "    x=x.astype('float')\n",
    "    test=test.astype('float')\n",
    "    for i in range(len(x)):\n",
    "        test[i]=y[i]#計算新一次的x\n",
    "        for j in range(len(x)):\n",
    "            if i<j:\n",
    "                test[i] = test[i]-a[i][j]*x[j]\n",
    "            elif i>j:\n",
    "                test[i] = test[i]-a[i][j]*test[j]\n",
    "        test[i]=test[i]/a[i][i]\n",
    "    print(format(k,'2d'),end='  ')#輸出次數\n",
    "    for i in range(len(x)):\n",
    "        print(\"{:>.4f}\".format(test[i]),' ',end=' ')#輸出x\n",
    "    print()#換行\n",
    "    error = 0\n",
    "    for i in range(len(x)):\n",
    "        error = error + abs(x[i]-test[i])#計算是否需要下一次\n",
    "    if(error<0.0001):#誤差值小於0.0001則不需要呼叫，輸出Converged!\n",
    "        print('Converged!')\n",
    "    else:#誤差值大於0.0001則需要呼叫，進行下一次運算\n",
    "        GaussSeidel(a,y,test,k)#將新計算的x(即test)傳入，進行下一次計算\n",
    "       "
   ]
  },
  {
   "cell_type": "code",
   "execution_count": 3,
   "id": "89d6b4b6",
   "metadata": {},
   "outputs": [
    {
     "name": "stdout",
     "output_type": "stream",
     "text": [
      "Iteration results\n",
      " k,   x1,      x2,      x3 \n",
      " 1  1.7500   -1.0625   -0.7937   \n",
      " 2  1.9836   -1.6170   -0.5866   \n",
      " 3  2.3385   -1.5762   -0.7134   \n",
      " 4  2.2706   -1.6385   -0.6619   \n",
      " 5  2.3211   -1.6190   -0.6868   \n",
      " 6  2.3019   -1.6298   -0.6757   \n",
      " 7  2.3115   -1.6252   -0.6809   \n",
      " 8  2.3073   -1.6274   -0.6785   \n",
      " 9  2.3092   -1.6264   -0.6796   \n",
      "10  2.3083   -1.6268   -0.6791   \n",
      "11  2.3088   -1.6266   -0.6793   \n",
      "12  2.3086   -1.6267   -0.6792   \n",
      "13  2.3087   -1.6267   -0.6793   \n",
      "14  2.3086   -1.6267   -0.6792   \n",
      "Converged!\n"
     ]
    }
   ],
   "source": [
    "a = np.array([[8, 4, -3], [-2, -8, 5], [3, 5, 10]])\n",
    "y = np.array([14, 5, -8])\n",
    "x = np.array([0, 0, 0])#第一次以x=0進行運算\n",
    "k=0#紀錄計算次數\n",
    "GaussSeidel(a,y,x,k)"
   ]
  },
  {
   "cell_type": "code",
   "execution_count": 4,
   "id": "83b926fa",
   "metadata": {},
   "outputs": [
    {
     "name": "stdout",
     "output_type": "stream",
     "text": [
      "Iteration results\n",
      " k,   x1,      x2,      x3 \n",
      " 1  0.8333   1.0333   -0.5179   \n",
      " 2  0.3592   1.4389   -0.6269   \n",
      " 3  0.2124   1.5337   -0.6441   \n",
      " 4  0.1816   1.5501   -0.6458   \n",
      " 5  0.1767   1.5521   -0.6458   \n",
      " 6  0.1762   1.5522   -0.6457   \n",
      " 7  0.1762   1.5522   -0.6457   \n",
      "Converged!\n"
     ]
    }
   ],
   "source": [
    "a = np.array([[12, 3, -5], [1, 5, 3], [3, 7, 13]])\n",
    "y = np.array([10, 6, 3])\n",
    "x = np.array([0, 0, 0])\n",
    "k=0\n",
    "GaussSeidel(a,y,x,k)"
   ]
  }
 ],
 "metadata": {
  "kernelspec": {
   "display_name": "Python 3 (ipykernel)",
   "language": "python",
   "name": "python3"
  },
  "language_info": {
   "codemirror_mode": {
    "name": "ipython",
    "version": 3
   },
   "file_extension": ".py",
   "mimetype": "text/x-python",
   "name": "python",
   "nbconvert_exporter": "python",
   "pygments_lexer": "ipython3",
   "version": "3.10.11"
  }
 },
 "nbformat": 4,
 "nbformat_minor": 5
}
