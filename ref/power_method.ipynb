{
 "cells": [
  {
   "cell_type": "code",
   "execution_count": 5,
   "id": "ec2bd73c",
   "metadata": {},
   "outputs": [],
   "source": [
    "import numpy as np\n",
    "from numpy.linalg import det"
   ]
  },
  {
   "cell_type": "code",
   "execution_count": 6,
   "id": "f7246353",
   "metadata": {},
   "outputs": [],
   "source": [
    "def eigenvalue(x, a):\n",
    "    x = x.astype('float')\n",
    "    a = a.astype('float')\n",
    "    l1 = max(x[0], x[1])\n",
    "    x = x / l1\n",
    "    x = np.dot(a, x)\n",
    "    l2 = max(x[0], x[1])\n",
    "\n",
    "    if l1 == l2:\n",
    "        print('Eigenvalue:', l1)\n",
    "        print('Eigenvector:', x / l1)\n",
    "    else:\n",
    "        eigenvalue(x, a)"
   ]
  },
  {
   "cell_type": "code",
   "execution_count": 7,
   "id": "c480bb74",
   "metadata": {},
   "outputs": [
    {
     "name": "stdout",
     "output_type": "stream",
     "text": [
      "Eigenvalue: 4.0\n",
      "Eigenvector: [0.5 1. ]\n"
     ]
    }
   ],
   "source": [
    "x = np.array([1, 1])\n",
    "a = np.array([[0, 2],[2, 3]])\n",
    "eigenvalue(x,a)"
   ]
  },
  {
   "cell_type": "code",
   "execution_count": 8,
   "id": "b7e33ad4",
   "metadata": {},
   "outputs": [
    {
     "name": "stdout",
     "output_type": "stream",
     "text": [
      "Eigenvalue: 8.0\n",
      "Eigenvector: [0.66666667 1.        ]\n"
     ]
    }
   ],
   "source": [
    "x = np.array([1, 1])\n",
    "a = np.array([[2, 4],[3, 6]])\n",
    "eigenvalue(x,a)"
   ]
  },
  {
   "cell_type": "code",
   "execution_count": null,
   "id": "ae0d236f",
   "metadata": {},
   "outputs": [],
   "source": []
  }
 ],
 "metadata": {
  "kernelspec": {
   "display_name": "Python 3 (ipykernel)",
   "language": "python",
   "name": "python3"
  },
  "language_info": {
   "codemirror_mode": {
    "name": "ipython",
    "version": 3
   },
   "file_extension": ".py",
   "mimetype": "text/x-python",
   "name": "python",
   "nbconvert_exporter": "python",
   "pygments_lexer": "ipython3",
   "version": "3.10.11"
  }
 },
 "nbformat": 4,
 "nbformat_minor": 5
}
