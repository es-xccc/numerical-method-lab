{
 "cells": [
  {
   "cell_type": "code",
   "execution_count": 20,
   "id": "07acdd88",
   "metadata": {},
   "outputs": [],
   "source": [
    "import numpy as np"
   ]
  },
  {
   "cell_type": "code",
   "execution_count": 21,
   "id": "af03056f",
   "metadata": {},
   "outputs": [],
   "source": [
    "def gauss_jordan_elimination(a, y):\n",
    "    m = np.insert(a, len(a), y, axis=1)\n",
    "    m = m.astype(float)\n",
    "\n",
    "    # 上三角矩陣\n",
    "    for i in range(len(a)):\n",
    "        for j in range(i+1, len(a)):\n",
    "            m[j] = m[j] - m[j][i] / m[i][i] * m[i]\n",
    "\n",
    "    # 將對角線元素變成1\n",
    "    for i in range(0, len(a)):\n",
    "        m[i] = m[i] / m[i][i]\n",
    "\n",
    "    # 讓矩陣剩下對角線元素\n",
    "    for i in range(len(a)-1, -1, -1):\n",
    "        for j in range(i-1, -1, -1):\n",
    "            m[j] = m[j] - m[j][i] / m[i][i] * m[i]\n",
    "\n",
    "    print('diagonal matrix:')\n",
    "    print(m)\n",
    "    print()\n",
    "\n",
    "    x = np.zeros(len(a))\n",
    "    for i in range(len(a)):\n",
    "        x[i] = m[i][len(a)]\n",
    "\n",
    "    print('x:')\n",
    "    print(np.array2string(x, separator=','))"
   ]
  },
  {
   "cell_type": "code",
   "execution_count": 22,
   "id": "782fc98d",
   "metadata": {},
   "outputs": [
    {
     "name": "stdout",
     "output_type": "stream",
     "text": [
      "diagonal matrix:\n",
      "[[ 1.   0.   0.  -2.5]\n",
      " [ 0.   1.   0.   3. ]\n",
      " [-0.  -0.   1.  -0.5]]\n",
      "\n",
      "x:\n",
      "[-2.5, 3. ,-0.5]\n"
     ]
    }
   ],
   "source": [
    "a = np.array([[1, 2, 3],[3, 4, 5],[3, 5, 5]])\n",
    "y = np.array([2, 2, 5])\n",
    "gauss_jordan_elimination(a,y)"
   ]
  },
  {
   "cell_type": "code",
   "execution_count": 23,
   "id": "c84d8f53",
   "metadata": {},
   "outputs": [
    {
     "name": "stdout",
     "output_type": "stream",
     "text": [
      "diagonal matrix:\n",
      "[[ 1.   0.   0.   0.   1.4]\n",
      " [ 0.   1.   0.   0.  -0.6]\n",
      " [ 0.   0.   1.   0.   1. ]\n",
      " [-0.  -0.  -0.   1.   0.2]]\n",
      "\n",
      "x:\n",
      "[ 1.4,-0.6, 1. , 0.2]\n"
     ]
    }
   ],
   "source": [
    "a = np.array([[1, 2, 3, 4],[5, 4, 3, 2],[2, 1, 2, 4],[2, 1, 3, 4]])\n",
    "y = np.array([4, 8, 5, 6])\n",
    "gauss_jordan_elimination(a,y)"
   ]
  }
 ],
 "metadata": {
  "kernelspec": {
   "display_name": "Python 3 (ipykernel)",
   "language": "python",
   "name": "python3"
  },
  "language_info": {
   "codemirror_mode": {
    "name": "ipython",
    "version": 3
   },
   "file_extension": ".py",
   "mimetype": "text/x-python",
   "name": "python",
   "nbconvert_exporter": "python",
   "pygments_lexer": "ipython3",
   "version": "3.10.11"
  }
 },
 "nbformat": 4,
 "nbformat_minor": 5
}
