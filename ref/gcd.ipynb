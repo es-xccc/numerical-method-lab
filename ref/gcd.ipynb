{
 "cells": [
  {
   "cell_type": "code",
   "execution_count": 2,
   "id": "f2b087c4",
   "metadata": {},
   "outputs": [],
   "source": [
    "def gcd(m:int,n:int)->int :\n",
    "    \"\"\" function of finding a greatest common divisor \"\"\"\n",
    "    if m==0 or n==0 :\n",
    "        print('------------------------------------')\n",
    "        print('Please enter a number greater than 0')\n",
    "        print('------------------------------------')\n",
    "        m=int(input(\"Enter first positive integer (m):\"))\n",
    "        n=int(input(\"Enter second positive integer (n):\"))\n",
    "    while m!=0 and n!=0 :\n",
    "        if m >= n :\n",
    "            m = m%n\n",
    "        elif n > m :\n",
    "            n = n%m\n",
    "    if m>=n :\n",
    "        print('Greatest common divisor:',m)\n",
    "    else :\n",
    "        print('Greatest common divisor:',n)"
   ]
  },
  {
   "cell_type": "code",
   "execution_count": 3,
   "id": "c6de6555",
   "metadata": {},
   "outputs": [
    {
     "name": "stdout",
     "output_type": "stream",
     "text": [
      "Greatest common divisor: 5\n"
     ]
    }
   ],
   "source": [
    "gcd(10,25)"
   ]
  },
  {
   "cell_type": "code",
   "execution_count": 4,
   "id": "0800a146",
   "metadata": {
    "scrolled": true
   },
   "outputs": [
    {
     "name": "stdout",
     "output_type": "stream",
     "text": [
      "------------------------------------\n",
      "Please enter a number greater than 0\n",
      "------------------------------------\n",
      "Enter first positive integer (m):376\n",
      "Enter second positive integer (n):5\n",
      "Greatest common divisor: 1\n"
     ]
    }
   ],
   "source": [
    "gcd(0,5)"
   ]
  },
  {
   "cell_type": "code",
   "execution_count": 5,
   "id": "65da4e32",
   "metadata": {},
   "outputs": [],
   "source": [
    "?gcd"
   ]
  },
  {
   "cell_type": "code",
   "execution_count": null,
   "id": "0ea58715",
   "metadata": {},
   "outputs": [],
   "source": []
  }
 ],
 "metadata": {
  "kernelspec": {
   "display_name": "Python 3 (ipykernel)",
   "language": "python",
   "name": "python3"
  },
  "language_info": {
   "codemirror_mode": {
    "name": "ipython",
    "version": 3
   },
   "file_extension": ".py",
   "mimetype": "text/x-python",
   "name": "python",
   "nbconvert_exporter": "python",
   "pygments_lexer": "ipython3",
   "version": "3.9.7"
  }
 },
 "nbformat": 4,
 "nbformat_minor": 5
}
