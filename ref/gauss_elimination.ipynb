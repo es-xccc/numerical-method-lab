{
 "cells": [
  {
   "cell_type": "code",
   "execution_count": 1,
   "id": "1e8897aa",
   "metadata": {},
   "outputs": [],
   "source": [
    "import numpy as np"
   ]
  },
  {
   "cell_type": "code",
   "execution_count": 2,
   "id": "1a142765",
   "metadata": {},
   "outputs": [],
   "source": [
    "def gauss_elimination(a,y):\n",
    "    m=np.insert(a,len(a),y, axis=1)\n",
    "    m=m.astype(float) \n",
    "    for i in range(len(a)):\n",
    "        for j in range(i+1,len(a)):\n",
    "            m[j]=m[j]-m[j][i]/m[i][i]*m[i]\n",
    "    print('upper triangular matrix:')\n",
    "    print(m)\n",
    "    print()\n",
    "    x=np.zeros(len(a))\n",
    "    for i in range(len(a)-1,-1,-1):\n",
    "        x[i]=m[i][len(a)]/m[i][i]\n",
    "        for j in range(0,i):\n",
    "            m[j][len(a)]=m[j][len(a)]-m[j][i]*x[i]\n",
    "            m[j][i]=0\n",
    "    print('x:') \n",
    "    print(np.array2string(x,separator=','))"
   ]
  },
  {
   "cell_type": "code",
   "execution_count": 3,
   "id": "791c7559",
   "metadata": {},
   "outputs": [
    {
     "name": "stdout",
     "output_type": "stream",
     "text": [
      "upper triangular matrix:\n",
      "[[ 1.  2.  3.  2.]\n",
      " [ 0. -2. -4. -4.]\n",
      " [ 0.  0. -2.  1.]]\n",
      "\n",
      "x:\n",
      "[-2.5, 3. ,-0.5]\n"
     ]
    }
   ],
   "source": [
    "a = np.array([[1, 2, 3],[3, 4, 5],[3, 5, 5]])\n",
    "y = np.array([2, 2, 5])\n",
    "gauss_elimination(a,y)"
   ]
  },
  {
   "cell_type": "code",
   "execution_count": 4,
   "id": "ffc3d376",
   "metadata": {},
   "outputs": [
    {
     "name": "stdout",
     "output_type": "stream",
     "text": [
      "upper triangular matrix:\n",
      "[[  1.    2.    3.    4.    4. ]\n",
      " [  0.   -6.  -12.  -18.  -12. ]\n",
      " [  0.    0.    2.    5.    3. ]\n",
      " [  0.    0.    0.   -2.5  -0.5]]\n",
      "\n",
      "x:\n",
      "[ 1.4,-0.6, 1. , 0.2]\n"
     ]
    }
   ],
   "source": [
    "a = np.array([[1, 2, 3, 4],[5, 4, 3, 2],[2, 1, 2, 4],[2, 1, 3, 4]])\n",
    "y = np.array([4, 8, 5, 6])\n",
    "gauss_elimination(a,y)"
   ]
  },
  {
   "cell_type": "code",
   "execution_count": null,
   "id": "9b1344bb",
   "metadata": {},
   "outputs": [],
   "source": []
  }
 ],
 "metadata": {
  "kernelspec": {
   "display_name": "Python 3 (ipykernel)",
   "language": "python",
   "name": "python3"
  },
  "language_info": {
   "codemirror_mode": {
    "name": "ipython",
    "version": 3
   },
   "file_extension": ".py",
   "mimetype": "text/x-python",
   "name": "python",
   "nbconvert_exporter": "python",
   "pygments_lexer": "ipython3",
   "version": "3.9.7"
  }
 },
 "nbformat": 4,
 "nbformat_minor": 5
}
