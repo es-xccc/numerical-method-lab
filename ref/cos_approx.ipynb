{
 "cells": [
  {
   "cell_type": "code",
   "execution_count": 8,
   "id": "908ce2fa",
   "metadata": {},
   "outputs": [],
   "source": [
    "import math\n",
    "def cos(x):\n",
    "    n=2\n",
    "    cosx=1\n",
    "    while n<=24 :\n",
    "        if n%4==0 :\n",
    "            cosx=cosx+(x**n)/math.factorial(n)\n",
    "        else :\n",
    "            cosx=cosx-(x**n)/math.factorial(n)\n",
    "        n=n+2\n",
    "    return cosx"
   ]
  },
  {
   "cell_type": "code",
   "execution_count": 9,
   "id": "ea03a6c1",
   "metadata": {},
   "outputs": [],
   "source": [
    "x=2.3"
   ]
  },
  {
   "cell_type": "code",
   "execution_count": 10,
   "id": "5d13a1cb",
   "metadata": {},
   "outputs": [
    {
     "name": "stdout",
     "output_type": "stream",
     "text": [
      "cos(2.3) approximation is -0.6662760212798241\n"
     ]
    }
   ],
   "source": [
    "print(\"cos(\",x,\") approximation is \",cos(x),sep='')"
   ]
  },
  {
   "cell_type": "code",
   "execution_count": null,
   "id": "0d5ae281",
   "metadata": {},
   "outputs": [],
   "source": []
  }
 ],
 "metadata": {
  "kernelspec": {
   "display_name": "Python 3 (ipykernel)",
   "language": "python",
   "name": "python3"
  },
  "language_info": {
   "codemirror_mode": {
    "name": "ipython",
    "version": 3
   },
   "file_extension": ".py",
   "mimetype": "text/x-python",
   "name": "python",
   "nbconvert_exporter": "python",
   "pygments_lexer": "ipython3",
   "version": "3.9.7"
  }
 },
 "nbformat": 4,
 "nbformat_minor": 5
}
