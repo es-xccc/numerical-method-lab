{
 "cells": [
  {
   "cell_type": "code",
   "execution_count": 13,
   "id": "5da5789d",
   "metadata": {},
   "outputs": [],
   "source": [
    "import numpy as np\n",
    "from numpy.linalg import det"
   ]
  },
  {
   "cell_type": "code",
   "execution_count": 14,
   "id": "db7980ca",
   "metadata": {},
   "outputs": [],
   "source": [
    "def LU_decomposition(a, y):\n",
    "    a = a.astype('float')\n",
    "    y = y.astype('float')\n",
    "    m = np.insert(a, len(a), y, axis=1)  # 增廣矩陣\n",
    "    L = np.zeros((len(a), len(a)))\n",
    "\n",
    "    # 求上三角矩陣\n",
    "    for i in range(len(a) - 1):\n",
    "        for j in range(len(a) - 1 - i):\n",
    "            x = m[i][i] / m[i + 1 + j][i]\n",
    "            L[i + 1 + j][i] = 1 / x  # x的值放入L矩陣\n",
    "            for k in range(len(m[0])):\n",
    "                m[i + j + 1][k] = m[i + j + 1][k] - m[i][k] / x  # 將左下角元素減為0\n",
    "                m[i + j + 1][k] = m[i + j + 1][k].astype('float')\n",
    "\n",
    "    U = np.delete(m, len(m[0]) - 1, 1)  # 將增廣矩陣最後的column刪除\n",
    "\n",
    "    # 將L矩陣對角線設為1\n",
    "    for i in range(len(L)):\n",
    "        L[i][i] = 1\n",
    "\n",
    "    print(\"u_matrix:\")\n",
    "    print(U)\n",
    "    print(\"l_matrix:\")\n",
    "    print(L)\n",
    "\n",
    "    return (L, U)\n",
    "\n",
    "\n",
    "def dot_array(A, y):  # A的反矩陣乘y\n",
    "    adj_A = np.zeros((len(A), len(A)))\n",
    "\n",
    "    for i in range(len(A)):\n",
    "        for j in range(len(A)):\n",
    "            a = np.delete(A, [i], axis=0)\n",
    "            a = np.delete(a, [j], axis=1)\n",
    "            adj_A[i][j] = np.linalg.det(a) * (-1) ** (i + j)\n",
    "\n",
    "    adj_A = np.transpose(adj_A)\n",
    "    A = A.astype('float')\n",
    "    y = y.astype('float')\n",
    "    det_A = np.linalg.det(A)\n",
    "    inverse_matrix = adj_A / det_A\n",
    "    answer = np.dot(inverse_matrix, y.T)\n",
    "\n",
    "    return answer\n",
    "\n",
    "\n",
    "def gauss_elimination(a, y):\n",
    "    m = np.insert(a, len(a), y, axis=1)\n",
    "    m = m.astype(float)\n",
    "    x = np.zeros(len(a))\n",
    "\n",
    "    for i in range(len(a)):\n",
    "        for j in range(i + 1, len(a)):\n",
    "            m[j] = m[j] - m[j][i] / m[i][i] * m[i]\n",
    "\n",
    "    for i in range(len(a) - 1, -1, -1):\n",
    "        x[i] = m[i][len(a)] / m[i][i]\n",
    "        for j in range(0, i):\n",
    "            m[j][len(a)] = m[j][len(a)] - m[j][i] * x[i]\n",
    "            m[j][i] = 0\n",
    "\n",
    "    return x\n",
    "\n",
    "def main(a,y):\n",
    "    L,U=LU_decomposition(a,y)#求L、U\n",
    "    L_inverse_y=dot_array(L,y)#(L**-1)y \n",
    "    ans=gauss_elimination(U,L_inverse_y)#高斯消去法\n",
    "    print(\"x:\")\n",
    "    print(ans)\n"
   ]
  },
  {
   "cell_type": "code",
   "execution_count": 15,
   "id": "7c55d328",
   "metadata": {},
   "outputs": [
    {
     "name": "stdout",
     "output_type": "stream",
     "text": [
      "u_matrix:\n",
      "[[ 1.  2.  3.]\n",
      " [ 0. -2. -4.]\n",
      " [ 0.  0. -2.]]\n",
      "l_matrix:\n",
      "[[1.  0.  0. ]\n",
      " [3.  1.  0. ]\n",
      " [3.  0.5 1. ]]\n",
      "x:\n",
      "[-2.5  3.  -0.5]\n"
     ]
    }
   ],
   "source": [
    "a = np.array([[1, 2, 3],[3, 4, 5],[3, 5, 5]])\n",
    "y = np.array([2, 2, 5])\n",
    "main(a,y)"
   ]
  },
  {
   "cell_type": "code",
   "execution_count": 16,
   "id": "1b7936c1",
   "metadata": {},
   "outputs": [
    {
     "name": "stdout",
     "output_type": "stream",
     "text": [
      "u_matrix:\n",
      "[[  1.    2.    3.    4. ]\n",
      " [  0.   -6.  -12.  -18. ]\n",
      " [  0.    0.    2.    5. ]\n",
      " [  0.    0.    0.   -2.5]]\n",
      "l_matrix:\n",
      "[[1.  0.  0.  0. ]\n",
      " [5.  1.  0.  0. ]\n",
      " [2.  0.5 1.  0. ]\n",
      " [2.  0.5 1.5 1. ]]\n",
      "x:\n",
      "[ 1.4 -0.6  1.   0.2]\n"
     ]
    }
   ],
   "source": [
    "a = np.array([[1, 2, 3, 4],[5, 4, 3, 2],[2, 1, 2, 4],[2, 1, 3, 4]])\n",
    "y = np.array([4, 8, 5, 6])\n",
    "main(a,y)"
   ]
  }
 ],
 "metadata": {
  "kernelspec": {
   "display_name": "Python 3 (ipykernel)",
   "language": "python",
   "name": "python3"
  },
  "language_info": {
   "codemirror_mode": {
    "name": "ipython",
    "version": 3
   },
   "file_extension": ".py",
   "mimetype": "text/x-python",
   "name": "python",
   "nbconvert_exporter": "python",
   "pygments_lexer": "ipython3",
   "version": "3.10.11"
  }
 },
 "nbformat": 4,
 "nbformat_minor": 5
}
