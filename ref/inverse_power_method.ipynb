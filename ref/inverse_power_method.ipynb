{
 "cells": [
  {
   "cell_type": "code",
   "execution_count": 1,
   "id": "96bb0741",
   "metadata": {},
   "outputs": [],
   "source": [
    "import numpy as np\n",
    "from numpy.linalg import det"
   ]
  },
  {
   "cell_type": "code",
   "execution_count": 2,
   "id": "ad2fc834",
   "metadata": {},
   "outputs": [],
   "source": [
    "def inv(A):\n",
    "    B=np.zeros((len(A),len(A)))\n",
    "    for i in range(len(A)):\n",
    "        for j in range(len(A)):\n",
    "            a = np.delete(A,[i],axis=0)\n",
    "            a = np.delete(a,[j],axis=1)\n",
    "            B[i][j]=np.linalg.det(a)*(-1)**(i+j)\n",
    "    B = np.transpose(B)\n",
    "    B = B/np.linalg.det(A)\n",
    "    return(B)"
   ]
  },
  {
   "cell_type": "code",
   "execution_count": 3,
   "id": "880a65f8",
   "metadata": {},
   "outputs": [],
   "source": [
    "def inverse_power_method(a,x):\n",
    "    x1=np.dot(inv(a),x)\n",
    "    x1_max=x1[0]\n",
    "    for i in range(len(x)):\n",
    "        if(abs(x1_max)<abs(x1[i])):\n",
    "            x1_max=x1[i]\n",
    "    if (x1/x1_max==x).all() :\n",
    "        print('The Minimum Eigenvalue:',1/x1_max)\n",
    "        print('Eigenvector:',x1/x1_max)\n",
    "    else :\n",
    "        inverse_power_method(a,x1/x1_max)"
   ]
  },
  {
   "cell_type": "code",
   "execution_count": 4,
   "id": "4b85787f",
   "metadata": {},
   "outputs": [
    {
     "name": "stdout",
     "output_type": "stream",
     "text": [
      "The Minimum Eigenvalue: -1.0\n",
      "Eigenvector: [ 1.  -0.5]\n"
     ]
    }
   ],
   "source": [
    "x = np.array([1, 1])\n",
    "a = np.array([[0, 2],[2, 3]])\n",
    "inverse_power_method(a,x)"
   ]
  },
  {
   "cell_type": "code",
   "execution_count": 5,
   "id": "2a8a06b2",
   "metadata": {},
   "outputs": [
    {
     "name": "stdout",
     "output_type": "stream",
     "text": [
      "The Minimum Eigenvalue: -0.7958315233127196\n",
      "Eigenvector: [ 1.         -0.25654736 -0.25654736]\n"
     ]
    }
   ],
   "source": [
    "x = np.array([1, 1, 1])\n",
    "a = np.array([[1, 5, 2],[2, 4, 3],[2, 1, 6]])\n",
    "inverse_power_method(a,x)"
   ]
  }
 ],
 "metadata": {
  "kernelspec": {
   "display_name": "Python 3 (ipykernel)",
   "language": "python",
   "name": "python3"
  },
  "language_info": {
   "codemirror_mode": {
    "name": "ipython",
    "version": 3
   },
   "file_extension": ".py",
   "mimetype": "text/x-python",
   "name": "python",
   "nbconvert_exporter": "python",
   "pygments_lexer": "ipython3",
   "version": "3.10.11"
  }
 },
 "nbformat": 4,
 "nbformat_minor": 5
}
