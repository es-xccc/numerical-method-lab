{
 "cells": [
  {
   "cell_type": "code",
   "execution_count": 5,
   "id": "ae01c8e3",
   "metadata": {},
   "outputs": [],
   "source": [
    "def matrix_add(a, b) :\n",
    "    if len(a)==len(b) and len(a[0])==len(b[0]) :#確認陣列大小是否相同\n",
    "        for i in range (len(a)) :\n",
    "            for j in range (len(a[0])):\n",
    "                a[i][j]=a[i][j]+b[i][j]#將每個元素相加\n",
    "        return(True,a)#回傳True和相加結果a\n",
    "    else :#陣列大小不同則輸出文字並回傳False\n",
    "        print('Matrix dimensions are not compatible for addition')\n",
    "        return(False,'')"
   ]
  },
  {
   "cell_type": "code",
   "execution_count": 6,
   "id": "db6098a0",
   "metadata": {},
   "outputs": [
    {
     "name": "stdout",
     "output_type": "stream",
     "text": [
      "[[3, 5, 4], [7, 10, 7]]\n"
     ]
    }
   ],
   "source": [
    "a = [[2,3,1],[4,6,2]]\n",
    "b = [[1,2,3],[3,4,5]] \n",
    "addible, c =matrix_add(a, b)\n",
    "if addible: print(c)"
   ]
  },
  {
   "cell_type": "code",
   "execution_count": 7,
   "id": "78449ce5",
   "metadata": {},
   "outputs": [
    {
     "name": "stdout",
     "output_type": "stream",
     "text": [
      "Matrix dimensions are not compatible for addition\n"
     ]
    }
   ],
   "source": [
    "a = [[2,3,1],[4,6,2]]\n",
    "b = [[1,2],[3,4]] \n",
    "addible, c =matrix_add(a, b)\n",
    "if addible: print(c)"
   ]
  },
  {
   "cell_type": "code",
   "execution_count": 8,
   "id": "ec6a4e5b",
   "metadata": {},
   "outputs": [
    {
     "name": "stdout",
     "output_type": "stream",
     "text": [
      "Matrix dimensions are not compatible for addition\n"
     ]
    }
   ],
   "source": [
    "a = [[2,3,1],[4,6,2]]\n",
    "b = [[1,2],[3,4],[3,4]]\n",
    "addible, c =matrix_add(a, b)\n",
    "if addible: print(c)"
   ]
  },
  {
   "cell_type": "code",
   "execution_count": null,
   "id": "d4529d60",
   "metadata": {},
   "outputs": [],
   "source": []
  }
 ],
 "metadata": {
  "kernelspec": {
   "display_name": "Python 3 (ipykernel)",
   "language": "python",
   "name": "python3"
  },
  "language_info": {
   "codemirror_mode": {
    "name": "ipython",
    "version": 3
   },
   "file_extension": ".py",
   "mimetype": "text/x-python",
   "name": "python",
   "nbconvert_exporter": "python",
   "pygments_lexer": "ipython3",
   "version": "3.9.7"
  }
 },
 "nbformat": 4,
 "nbformat_minor": 5
}
