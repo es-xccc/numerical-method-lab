{
 "cells": [
  {
   "cell_type": "code",
   "execution_count": 1,
   "id": "fada9ce8",
   "metadata": {},
   "outputs": [
    {
     "name": "stdout",
     "output_type": "stream",
     "text": [
      "time= 1.309851885466285\n"
     ]
    }
   ],
   "source": [
    "import numpy as np\n",
    "v=np.array([1.0,1.8,2.4,3.5,4.4,5.1,6.0])\n",
    "P=np.array([4.7,12.2,19.0,31.8,40.1,43.8,43.2])\n",
    "\n",
    "\n",
    "m=2000 # 重量2000kg\n",
    "\n",
    "f=np.zeros(7)\n",
    "\n",
    "for i in range(7): \n",
    "    f[i]=v[i]/(P[i]*1000)#計算f\n",
    "\n",
    "a = 1\n",
    "b = 6\n",
    "n = 7\n",
    "h = (b - a) / (n - 1)\n",
    "\n",
    "t = m*((h/2)*(f[0] +2 * sum(f[1:n-1]) + f[n-1])) #計算Trapezoid rule\n",
    "\n",
    "print(\"time=\",t)"
   ]
  }
 ],
 "metadata": {
  "kernelspec": {
   "display_name": "Python 3 (ipykernel)",
   "language": "python",
   "name": "python3"
  },
  "language_info": {
   "codemirror_mode": {
    "name": "ipython",
    "version": 3
   },
   "file_extension": ".py",
   "mimetype": "text/x-python",
   "name": "python",
   "nbconvert_exporter": "python",
   "pygments_lexer": "ipython3",
   "version": "3.9.7"
  }
 },
 "nbformat": 4,
 "nbformat_minor": 5
}
