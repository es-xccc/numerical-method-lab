{
 "cells": [
  {
   "cell_type": "code",
   "execution_count": 1,
   "id": "fada9ce8",
   "metadata": {},
   "outputs": [
    {
     "name": "stdout",
     "output_type": "stream",
     "text": [
      "time= 1.309851885466285\n"
     ]
    }
   ],
   "source": [
    "import numpy as np\n",
    "\n",
    "# Initialize variables\n",
    "v = np.array([1.0, 1.8, 2.4, 3.5, 4.4, 5.1, 6.0])\n",
    "P = np.array([4.7, 12.2, 19.0, 31.8, 40.1, 43.8, 43.2])\n",
    "m = 2000  # weight in kg\n",
    "n = 7  # number of data points\n",
    "\n",
    "# Calculate f\n",
    "f = v / (P * 1000)\n",
    "\n",
    "# Define trapezoid rule parameters\n",
    "a = 1\n",
    "b = 6\n",
    "h = (b - a) / (n - 1)\n",
    "\n",
    "# Calculate time using trapezoid rule\n",
    "t = m * ((h / 2) * (f[0] + 2 * sum(f[1:n-1]) + f[n-1]))\n",
    "\n",
    "print(\"time=\", t)"
   ]
  }
 ],
 "metadata": {
  "kernelspec": {
   "display_name": "Python 3 (ipykernel)",
   "language": "python",
   "name": "python3"
  },
  "language_info": {
   "codemirror_mode": {
    "name": "ipython",
    "version": 3
   },
   "file_extension": ".py",
   "mimetype": "text/x-python",
   "name": "python",
   "nbconvert_exporter": "python",
   "pygments_lexer": "ipython3",
   "version": "3.10.11"
  }
 },
 "nbformat": 4,
 "nbformat_minor": 5
}
