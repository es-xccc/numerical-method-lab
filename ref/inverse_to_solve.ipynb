{
 "cells": [
  {
   "cell_type": "code",
   "execution_count": 20,
   "id": "339cd157",
   "metadata": {},
   "outputs": [],
   "source": [
    "import numpy as np"
   ]
  },
  {
   "cell_type": "code",
   "execution_count": 21,
   "id": "f234d17a",
   "metadata": {},
   "outputs": [],
   "source": [
    "def adj(A):\n",
    "    B=np.zeros((len(A),len(A)))\n",
    "    for i in range(len(A)):\n",
    "        for j in range(len(A)):\n",
    "            a = np.delete(A,[i],axis=0)\n",
    "            a = np.delete(a,[j],axis=1)\n",
    "            B[i][j]=np.linalg.det(a)*(-1)**(i+j)\n",
    "    B = np.transpose(B)\n",
    "    return(B)"
   ]
  },
  {
   "cell_type": "code",
   "execution_count": 22,
   "id": "275b9658",
   "metadata": {},
   "outputs": [],
   "source": [
    "def compute(a,y):\n",
    "    invA=np.zeros((len(a),len(a)))\n",
    "    invA=adj(a)\n",
    "    x=np.zeros(len(a))\n",
    "    for i in range(len(a)):\n",
    "        for j in range(len(a)):\n",
    "            x[i]=x[i]+invA[i][j]*y[j]\n",
    "        x[i]=x[i]/np.linalg.det(a)\n",
    "    print(\"x:\")\n",
    "    print(np.array2string(x,separator=','))"
   ]
  },
  {
   "cell_type": "code",
   "execution_count": 23,
   "id": "25b765bf",
   "metadata": {},
   "outputs": [
    {
     "name": "stdout",
     "output_type": "stream",
     "text": [
      "adjugate matrix:\n",
      "[[ 4. -2.]\n",
      " [-3.  1.]]\n"
     ]
    }
   ],
   "source": [
    "a = np.array([[1,2],[3,4]])\n",
    "y = [2, 5]\n",
    "print('adjugate matrix:')\n",
    "\n",
    "print(adj(a))"
   ]
  },
  {
   "cell_type": "code",
   "execution_count": 24,
   "id": "393b6fdb",
   "metadata": {},
   "outputs": [
    {
     "name": "stdout",
     "output_type": "stream",
     "text": [
      "x:\n",
      "[1. ,0.5]\n"
     ]
    }
   ],
   "source": [
    "compute(a,y)"
   ]
  },
  {
   "cell_type": "code",
   "execution_count": 25,
   "id": "41f43bc6",
   "metadata": {
    "scrolled": true
   },
   "outputs": [
    {
     "name": "stdout",
     "output_type": "stream",
     "text": [
      "adjugate matrix:\n"
     ]
    },
    {
     "data": {
      "text/plain": [
       "array([[-5.,  5., -2.],\n",
       "       [-0., -4.,  4.],\n",
       "       [ 3.,  1., -2.]])"
      ]
     },
     "execution_count": 25,
     "metadata": {},
     "output_type": "execute_result"
    }
   ],
   "source": [
    "a = np.array([[1,2,3],[3,4,5],[3,5,5]])\n",
    "y = [2, 2, 5]\n",
    "print('adjugate matrix:')\n",
    "adj(a)\n"
   ]
  },
  {
   "cell_type": "code",
   "execution_count": 26,
   "id": "3befd410",
   "metadata": {},
   "outputs": [
    {
     "name": "stdout",
     "output_type": "stream",
     "text": [
      "x:\n",
      "[-2.5, 3. ,-0.5]\n"
     ]
    }
   ],
   "source": [
    "compute(a,y)"
   ]
  }
 ],
 "metadata": {
  "kernelspec": {
   "display_name": "Python 3 (ipykernel)",
   "language": "python",
   "name": "python3"
  },
  "language_info": {
   "codemirror_mode": {
    "name": "ipython",
    "version": 3
   },
   "file_extension": ".py",
   "mimetype": "text/x-python",
   "name": "python",
   "nbconvert_exporter": "python",
   "pygments_lexer": "ipython3",
   "version": "3.10.11"
  }
 },
 "nbformat": 4,
 "nbformat_minor": 5
}
