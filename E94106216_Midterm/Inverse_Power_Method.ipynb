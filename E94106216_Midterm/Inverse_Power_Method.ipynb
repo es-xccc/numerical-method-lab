{
 "cells": [
  {
   "cell_type": "code",
   "execution_count": 10,
   "metadata": {},
   "outputs": [
    {
     "name": "stdout",
     "output_type": "stream",
     "text": [
      "The Minimun Eigenvalue: 0.870520630636722\n",
      "Eigenvector: [ 0.15529164  0.34377323  0.63157713 -1.00000231]\n"
     ]
    }
   ],
   "source": [
    "import numpy as np\n",
    "from numpy.linalg import det, inv\n",
    "\n",
    "def Inverse_Power_Method(a, x):\n",
    "    x=x.astype('float')\n",
    "    a=a.astype('float')\n",
    "    l1=np.max(abs(x)) #找向量的絕對值的最大值\n",
    "    x=x/l1 #除以絕對值的最大值\n",
    "    x=np.dot(a,x) #將矩陣A與向量x相乘\n",
    "    l2=np.max(abs(x))\n",
    "    if np.allclose(l1, l2): #如果這次除完和上一步驟的結果相差極小，則回傳\n",
    "        return 1/l1, x/l1\n",
    "    else:\n",
    "        return Inverse_Power_Method(a, x)\n",
    "\n",
    "a = np.array([[10, 2, 3, 4], [2, 9, 3, 5], [3, 3, 8, 6], [4, 5, 6, 7]])\n",
    "x = np.array([1, 1, 1, 1])\n",
    "a = inv(a) #先inverse再呼叫函數\n",
    "Eigenvalue, Eigenvector = Inverse_Power_Method(a, x)\n",
    "print(\"The Minimun Eigenvalue:\", Eigenvalue)\n",
    "print(\"Eigenvector:\", Eigenvector)"
   ]
  }
 ],
 "metadata": {
  "kernelspec": {
   "display_name": ".venv",
   "language": "python",
   "name": "python3"
  },
  "language_info": {
   "codemirror_mode": {
    "name": "ipython",
    "version": 3
   },
   "file_extension": ".py",
   "mimetype": "text/x-python",
   "name": "python",
   "nbconvert_exporter": "python",
   "pygments_lexer": "ipython3",
   "version": "3.10.11"
  }
 },
 "nbformat": 4,
 "nbformat_minor": 2
}
