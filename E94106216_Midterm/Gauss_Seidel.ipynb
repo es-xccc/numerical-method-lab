{
 "cells": [
  {
   "cell_type": "code",
   "execution_count": 3,
   "metadata": {},
   "outputs": [
    {
     "name": "stdout",
     "output_type": "stream",
     "text": [
      "The Solve: [ 0.10662537 -0.81122684 -0.26963683  0.17667935]\n"
     ]
    }
   ],
   "source": [
    "import numpy as np\n",
    "from copy import deepcopy\n",
    "\n",
    "def Gauss_Seidel(a, x, y, it, epsilon):\n",
    "    x_old = np.zeros(a.shape[0])\n",
    "\n",
    "    for k in range(it):\n",
    "        x_old = np.copy(x)\n",
    "        for i in range(a.shape[0]): #套公式\n",
    "            x[i] = (y[i] - np.dot(a[i, :i], x[:i]) - np.dot(a[i, i+1:], x_old[i+1:])) / a[i, i]\n",
    "\n",
    "        if np.all(np.abs(x - x_old) < epsilon): #如果誤差夠小則跳出迴圈並回傳\n",
    "            break\n",
    "        \n",
    "    return x\n",
    "\n",
    "a = np.array([[12, -2, 4, 1], [4, -8, 1, 2], [3, -2, 12, -4], [0, 6, -8, 21]])\n",
    "x = np.zeros(a.shape[0])\n",
    "y = np.array([2, 7, -2, 1])\n",
    "\n",
    "answer = Gauss_Seidel(a, x, y, it=100, epsilon=0.0001)\n",
    "print(\"The Solve:\", answer)"
   ]
  }
 ],
 "metadata": {
  "kernelspec": {
   "display_name": ".venv",
   "language": "python",
   "name": "python3"
  },
  "language_info": {
   "codemirror_mode": {
    "name": "ipython",
    "version": 3
   },
   "file_extension": ".py",
   "mimetype": "text/x-python",
   "name": "python",
   "nbconvert_exporter": "python",
   "pygments_lexer": "ipython3",
   "version": "3.10.11"
  }
 },
 "nbformat": 4,
 "nbformat_minor": 2
}
